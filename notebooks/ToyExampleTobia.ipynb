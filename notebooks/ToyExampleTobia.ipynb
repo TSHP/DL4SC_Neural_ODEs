{
  "nbformat": 4,
  "nbformat_minor": 0,
  "metadata": {
    "colab": {
      "provenance": [],
      "authorship_tag": "ABX9TyOvzAteC0xZHTecWly5S8Zo",
      "include_colab_link": true
    },
    "kernelspec": {
      "name": "python3",
      "display_name": "Python 3"
    },
    "language_info": {
      "name": "python"
    }
  },
  "cells": [
    {
      "cell_type": "markdown",
      "metadata": {
        "id": "view-in-github",
        "colab_type": "text"
      },
      "source": [
        "<a href=\"https://colab.research.google.com/github/TSHP/DL4SC_Neural_ODEs/blob/main/ToyExampleTobia.ipynb\" target=\"_parent\"><img src=\"https://colab.research.google.com/assets/colab-badge.svg\" alt=\"Open In Colab\"/></a>"
      ]
    },
    {
      "cell_type": "markdown",
      "source": [
        "Loading in the MNIST DATASET"
      ],
      "metadata": {
        "id": "rRAHnmmbuO8l"
      }
    },
    {
      "cell_type": "code",
      "execution_count": 1,
      "metadata": {
        "id": "8i5pH33gtmv5"
      },
      "outputs": [],
      "source": [
        "import torch\n",
        "import torchvision\n",
        "import torchvision.transforms as transforms\n",
        "import pandas as pd\n",
        "import torch.nn as nn\n",
        "from torch.nn import ReLU\n",
        "from torch import optim\n",
        "import matplotlib.pyplot as plt\n",
        "from torch.nn.functional import one_hot"
      ]
    },
    {
      "cell_type": "code",
      "source": [
        "mnistTrainSet = torchvision.datasets.MNIST(root='./data', train=True,\n",
        "                                    download=True, transform=transforms.ToTensor()) # might need to normalize\n",
        "mnistTrainLoader = torch.utils.data.DataLoader(mnistTrainSet, batch_size=64,\n",
        "                                      shuffle=True)"
      ],
      "metadata": {
        "id": "XM_wLT1XvDve",
        "colab": {
          "base_uri": "https://localhost:8080/"
        },
        "outputId": "1b5d6ac0-2692-442f-b4b8-bc1076c9377a"
      },
      "execution_count": 2,
      "outputs": [
        {
          "output_type": "stream",
          "name": "stdout",
          "text": [
            "Downloading http://yann.lecun.com/exdb/mnist/train-images-idx3-ubyte.gz\n",
            "Downloading http://yann.lecun.com/exdb/mnist/train-images-idx3-ubyte.gz to ./data/MNIST/raw/train-images-idx3-ubyte.gz\n"
          ]
        },
        {
          "output_type": "stream",
          "name": "stderr",
          "text": [
            "100%|██████████| 9912422/9912422 [00:00<00:00, 71342767.60it/s]\n"
          ]
        },
        {
          "output_type": "stream",
          "name": "stdout",
          "text": [
            "Extracting ./data/MNIST/raw/train-images-idx3-ubyte.gz to ./data/MNIST/raw\n",
            "\n",
            "Downloading http://yann.lecun.com/exdb/mnist/train-labels-idx1-ubyte.gz\n",
            "Downloading http://yann.lecun.com/exdb/mnist/train-labels-idx1-ubyte.gz to ./data/MNIST/raw/train-labels-idx1-ubyte.gz\n"
          ]
        },
        {
          "output_type": "stream",
          "name": "stderr",
          "text": [
            "100%|██████████| 28881/28881 [00:00<00:00, 89796659.62it/s]\n"
          ]
        },
        {
          "output_type": "stream",
          "name": "stdout",
          "text": [
            "Extracting ./data/MNIST/raw/train-labels-idx1-ubyte.gz to ./data/MNIST/raw\n",
            "\n",
            "Downloading http://yann.lecun.com/exdb/mnist/t10k-images-idx3-ubyte.gz\n",
            "Downloading http://yann.lecun.com/exdb/mnist/t10k-images-idx3-ubyte.gz to ./data/MNIST/raw/t10k-images-idx3-ubyte.gz\n"
          ]
        },
        {
          "output_type": "stream",
          "name": "stderr",
          "text": [
            "100%|██████████| 1648877/1648877 [00:00<00:00, 21952074.77it/s]\n"
          ]
        },
        {
          "output_type": "stream",
          "name": "stdout",
          "text": [
            "Extracting ./data/MNIST/raw/t10k-images-idx3-ubyte.gz to ./data/MNIST/raw\n",
            "\n",
            "Downloading http://yann.lecun.com/exdb/mnist/t10k-labels-idx1-ubyte.gz\n",
            "Downloading http://yann.lecun.com/exdb/mnist/t10k-labels-idx1-ubyte.gz to ./data/MNIST/raw/t10k-labels-idx1-ubyte.gz\n"
          ]
        },
        {
          "output_type": "stream",
          "name": "stderr",
          "text": [
            "100%|██████████| 4542/4542 [00:00<00:00, 15035934.31it/s]\n"
          ]
        },
        {
          "output_type": "stream",
          "name": "stdout",
          "text": [
            "Extracting ./data/MNIST/raw/t10k-labels-idx1-ubyte.gz to ./data/MNIST/raw\n",
            "\n"
          ]
        }
      ]
    },
    {
      "cell_type": "markdown",
      "source": [
        "Constructing a 1 Layer MLP"
      ],
      "metadata": {
        "id": "_SV3fPbEvNCd"
      }
    },
    {
      "cell_type": "code",
      "source": [
        "class MLP(nn.Module):\n",
        "    def __init__(self, in_dim, out_dim):\n",
        "        super(MLP, self).__init__()\n",
        "        self.linear = nn.Linear(in_dim, out_dim)\n",
        "        self.Relu = ReLU()\n",
        "    def forward(self, x):\n",
        "        out = self.linear(x)\n",
        "        out = self.Relu(out)\n",
        "        return out"
      ],
      "metadata": {
        "id": "UiO7GKtOvDzU"
      },
      "execution_count": 3,
      "outputs": []
    },
    {
      "cell_type": "code",
      "source": [
        "batch_size = 64\n",
        "in_dim, num_class = 28*28, 10\n",
        "\n",
        "l_r = 0.0001\n",
        "w_decay = 1e-4\n",
        "model = MLP(in_dim, num_class)\n",
        "optimizer = optim.Adam(model.parameters(), lr=l_r, weight_decay = w_decay)\n",
        "criterion = nn.CrossEntropyLoss()"
      ],
      "metadata": {
        "id": "vszFzJ-Qvilu"
      },
      "execution_count": 4,
      "outputs": []
    },
    {
      "cell_type": "markdown",
      "source": [
        "Train with 10 class probabilities"
      ],
      "metadata": {
        "id": "4eYiV8XP6FQB"
      }
    },
    {
      "cell_type": "code",
      "source": [
        "total_steps = len(mnistTrainLoader)\n",
        "epochs = 10\n",
        "for cur_epoch in range(epochs):\n",
        "  for x, (images, labels) in enumerate(mnistTrainLoader):\n",
        "    images = images.reshape(-1, 28*28)\n",
        "\n",
        "    out = model(images)\n",
        "\n",
        "    losses = criterion(out, labels)\n",
        "\n",
        "    optimizer.zero_grad()\n",
        "    losses.backward()\n",
        "    optimizer.step()\n",
        "    if (x+1) % 300 == 0:\n",
        "      print (f'Epoch[{cur_epoch+1}/{epochs}], Step[{x+1}/{total_steps}], Losses: {losses.item():.4f}')\n",
        "print(losses.item())"
      ],
      "metadata": {
        "id": "ohQ17KWU1sis"
      },
      "execution_count": null,
      "outputs": []
    },
    {
      "cell_type": "markdown",
      "source": [
        "Dataloader Understanding"
      ],
      "metadata": {
        "id": "C5fYLDqA03dF"
      }
    },
    {
      "cell_type": "code",
      "source": [
        "plt.imshow(mnistTrainSet.data[0])\n",
        "plt.show()"
      ],
      "metadata": {
        "id": "y-GwnLsivlC5",
        "colab": {
          "base_uri": "https://localhost:8080/",
          "height": 430
        },
        "outputId": "c1d47e1e-6b1e-4472-b1af-98cc849687ca"
      },
      "execution_count": 6,
      "outputs": [
        {
          "output_type": "display_data",
          "data": {
            "text/plain": [
              "<Figure size 640x480 with 1 Axes>"
            ],
            "image/png": "[encoded data removed]"
          },
          "metadata": {}
        }
      ]
    },
    {
      "cell_type": "code",
      "source": [
        "for idx, batch in enumerate(mnistTrainLoader):\n",
        "  print('Batch index: ', idx)\n",
        "  print('Batch size: ', batch[0].size())\n",
        "  print('Batch label: ', batch[1])\n",
        "  break"
      ],
      "metadata": {
        "id": "iPu3nKNozt64"
      },
      "execution_count": null,
      "outputs": []
    },
    {
      "cell_type": "code",
      "source": [
        "for idx, (data, target) in enumerate(mnistTrainLoader):\n",
        "    print(data[0].shape)\n",
        "    print(len(data))\n",
        "    print(len(target))\n",
        "    print(target[0])\n",
        "    break"
      ],
      "metadata": {
        "id": "wv3HPgI-0SmS"
      },
      "execution_count": null,
      "outputs": []
    },
    {
      "cell_type": "code",
      "source": [
        "class ResidualBlock(nn.Module):\n",
        "    def __init__(self, in_channels, out_channels, stride=1):\n",
        "        super(ResidualBlock, self).__init__()\n",
        "        self.conv1 = nn.Conv2d(in_channels, out_channels, kernel_size=3, stride=stride, padding=1)\n",
        "        self.bn1 = nn.BatchNorm2d(out_channels)\n",
        "        self.relu = nn.ReLU(inplace=True)\n",
        "\n",
        "    def forward(self, x):\n",
        "        identity = x\n",
        "        out = self.conv1(x)\n",
        "        out = self.bn1(out)\n",
        "        out += identity\n",
        "        out = self.relu(out)\n",
        "\n",
        "        return out\n",
        "\n",
        "# Define the ResNet model\n",
        "class ResNet6(nn.Module):\n",
        "    def __init__(self, in_channels, num_classes=10):\n",
        "        super(ResNet6, self).__init__()\n",
        "        w = 32\n",
        "        self.conv = nn.Conv2d(in_channels, w, kernel_size=3, stride=1, padding=1)\n",
        "        self.bn = nn.BatchNorm2d(w)\n",
        "        self.relu = nn.ReLU(inplace=True)\n",
        "        self.maxpool = nn.MaxPool2d(kernel_size=2, stride=2, padding=0)\n",
        "        self.residual_blocks = nn.ModuleList([\n",
        "            ResidualBlock(w, w),\n",
        "            ResidualBlock(w, w),\n",
        "            ResidualBlock(w, w),\n",
        "            ResidualBlock(w, w),\n",
        "            ResidualBlock(w, w),\n",
        "            ResidualBlock(w, w)\n",
        "        ])\n",
        "        self.avgpool = nn.AdaptiveAvgPool2d((1, 1))\n",
        "        self.fc = nn.Linear(w, num_classes)\n",
        "\n",
        "    def forward(self, x):\n",
        "        out = self.maxpool(x)\n",
        "        out = self.maxpool(out)\n",
        "        out = self.conv(out)\n",
        "        out = self.bn(out)\n",
        "        out = self.relu(out)\n",
        "\n",
        "        for block in self.residual_blocks:\n",
        "            out = block(out)\n",
        "        out = self.avgpool(out)\n",
        "        out = torch.flatten(out, 1)\n",
        "        out = self.fc(out)\n",
        "\n",
        "        return out"
      ],
      "metadata": {
        "id": "jbHrlhH9FJYs"
      },
      "execution_count": 71,
      "outputs": []
    },
    {
      "cell_type": "code",
      "source": [
        "# Create an instance of the ResNet model\n",
        "model_ResNet = ResNet6(in_channels=1)\n",
        "\n",
        "# Define the training parameters\n",
        "learning_rate = 0.001\n",
        "num_epochs = 10\n",
        "print_interval = 75\n",
        "\n",
        "# Define the loss function and optimizer\n",
        "criterion = nn.CrossEntropyLoss()\n",
        "optimizer = optim.Adam(model_ResNet.parameters(), lr=learning_rate)\n",
        "\n",
        "# Training loop\n",
        "for epoch in range(num_epochs):\n",
        "    running_loss = 0.0\n",
        "    eval_counter = 0\n",
        "\n",
        "    for i, (images, labels) in enumerate(mnistTrainLoader, 1):\n",
        "        # Zero the parameter gradients\n",
        "        optimizer.zero_grad()\n",
        "\n",
        "        # Forward pass\n",
        "        outputs = model_ResNet(images)\n",
        "        loss = criterion(outputs, labels)\n",
        "\n",
        "        # Backward pass and optimize\n",
        "        loss.backward()\n",
        "        optimizer.step()\n",
        "\n",
        "        running_loss += loss.item()\n",
        "        eval_counter += 1\n",
        "\n",
        "        # Print the running loss every 'print_interval' evaluations\n",
        "        if eval_counter % print_interval == 0:\n",
        "            average_loss = running_loss / print_interval\n",
        "            print(f\"Epoch [{epoch+1}/{num_epochs}], Evaluation [{i}/{len(mnistTrainLoader)}], Loss: {average_loss}\")\n",
        "            running_loss = 0.0\n",
        "            eval_counter = 0\n",
        "\n",
        "    # Print the remaining running loss at the end of the epoch\n",
        "    if eval_counter > 0:\n",
        "        average_loss = running_loss / eval_counter\n",
        "        print(f\"Epoch [{epoch+1}/{num_epochs}], Evaluation [{i}/{len(mnistTrainLoader)}], Loss: {average_loss}\")"
      ],
      "metadata": {
        "colab": {
          "base_uri": "https://localhost:8080/"
        },
        "id": "xA5KaLRT97eU",
        "outputId": "70f15be9-f812-493c-c45e-b88f88844ece"
      },
      "execution_count": 72,
      "outputs": [
        {
          "output_type": "stream",
          "name": "stdout",
          "text": [
            "Epoch [1/10], Evaluation [75/938], Loss: 1.098792440891266\n",
            "Epoch [1/10], Evaluation [150/938], Loss: 0.5510403784116109\n",
            "Epoch [1/10], Evaluation [225/938], Loss: 0.4724451529979706\n",
            "Epoch [1/10], Evaluation [300/938], Loss: 0.4153890115022659\n",
            "Epoch [1/10], Evaluation [375/938], Loss: 0.4075972290833791\n",
            "Epoch [1/10], Evaluation [450/938], Loss: 0.38929042518138884\n",
            "Epoch [1/10], Evaluation [525/938], Loss: 0.374271169702212\n",
            "Epoch [1/10], Evaluation [600/938], Loss: 0.3437766989072164\n",
            "Epoch [1/10], Evaluation [675/938], Loss: 0.35487307926019035\n",
            "Epoch [1/10], Evaluation [750/938], Loss: 0.3421675843993823\n",
            "Epoch [1/10], Evaluation [825/938], Loss: 0.33433596352736156\n",
            "Epoch [1/10], Evaluation [900/938], Loss: 0.3245687262217204\n",
            "Epoch [1/10], Evaluation [938/938], Loss: 0.32716904502165944\n",
            "Epoch [2/10], Evaluation [75/938], Loss: 0.31952578206857046\n",
            "Epoch [2/10], Evaluation [150/938], Loss: 0.3121372377872467\n",
            "Epoch [2/10], Evaluation [225/938], Loss: 0.32037480851014455\n",
            "Epoch [2/10], Evaluation [300/938], Loss: 0.30396102627118426\n",
            "Epoch [2/10], Evaluation [375/938], Loss: 0.2989169169465701\n",
            "Epoch [2/10], Evaluation [450/938], Loss: 0.30307609647512435\n",
            "Epoch [2/10], Evaluation [525/938], Loss: 0.2927535864710808\n",
            "Epoch [2/10], Evaluation [600/938], Loss: 0.2984171839555105\n",
            "Epoch [2/10], Evaluation [675/938], Loss: 0.29715778211752575\n",
            "Epoch [2/10], Evaluation [750/938], Loss: 0.30307120869557064\n",
            "Epoch [2/10], Evaluation [825/938], Loss: 0.3027319316069285\n",
            "Epoch [2/10], Evaluation [900/938], Loss: 0.3155715189377467\n",
            "Epoch [2/10], Evaluation [938/938], Loss: 0.31946102372909846\n",
            "Epoch [3/10], Evaluation [75/938], Loss: 0.2850535708665848\n",
            "Epoch [3/10], Evaluation [150/938], Loss: 0.27150433709224064\n",
            "Epoch [3/10], Evaluation [225/938], Loss: 0.2874858985344569\n",
            "Epoch [3/10], Evaluation [300/938], Loss: 0.28499185721079506\n",
            "Epoch [3/10], Evaluation [375/938], Loss: 0.27622958640257517\n",
            "Epoch [3/10], Evaluation [450/938], Loss: 0.2712697709600131\n",
            "Epoch [3/10], Evaluation [525/938], Loss: 0.3062574263413747\n",
            "Epoch [3/10], Evaluation [600/938], Loss: 0.2974548439184825\n",
            "Epoch [3/10], Evaluation [675/938], Loss: 0.2606106255451838\n",
            "Epoch [3/10], Evaluation [750/938], Loss: 0.2767362491289775\n",
            "Epoch [3/10], Evaluation [825/938], Loss: 0.2795687153935432\n",
            "Epoch [3/10], Evaluation [900/938], Loss: 0.2825603514909744\n",
            "Epoch [3/10], Evaluation [938/938], Loss: 0.29108227534513725\n",
            "Epoch [4/10], Evaluation [75/938], Loss: 0.26943506454428034\n",
            "Epoch [4/10], Evaluation [150/938], Loss: 0.2746851407488187\n",
            "Epoch [4/10], Evaluation [225/938], Loss: 0.2835431523124377\n",
            "Epoch [4/10], Evaluation [300/938], Loss: 0.27955710848172505\n",
            "Epoch [4/10], Evaluation [375/938], Loss: 0.26239167551199594\n",
            "Epoch [4/10], Evaluation [450/938], Loss: 0.27314834704001745\n",
            "Epoch [4/10], Evaluation [525/938], Loss: 0.25020411441723506\n",
            "Epoch [4/10], Evaluation [600/938], Loss: 0.26876575489838916\n",
            "Epoch [4/10], Evaluation [675/938], Loss: 0.26337422917286557\n",
            "Epoch [4/10], Evaluation [750/938], Loss: 0.24986769646406173\n",
            "Epoch [4/10], Evaluation [825/938], Loss: 0.27105395634969076\n",
            "Epoch [4/10], Evaluation [900/938], Loss: 0.27778521875540413\n",
            "Epoch [4/10], Evaluation [938/938], Loss: 0.2651621718939982\n",
            "Epoch [5/10], Evaluation [75/938], Loss: 0.2500256100296974\n",
            "Epoch [5/10], Evaluation [150/938], Loss: 0.24949488321940105\n",
            "Epoch [5/10], Evaluation [225/938], Loss: 0.27009125451246896\n",
            "Epoch [5/10], Evaluation [300/938], Loss: 0.24177571396032968\n",
            "Epoch [5/10], Evaluation [375/938], Loss: 0.2507880874474843\n",
            "Epoch [5/10], Evaluation [450/938], Loss: 0.26956984132528305\n",
            "Epoch [5/10], Evaluation [525/938], Loss: 0.24976894368728003\n",
            "Epoch [5/10], Evaluation [600/938], Loss: 0.26040585537751515\n",
            "Epoch [5/10], Evaluation [675/938], Loss: 0.24123903582493464\n",
            "Epoch [5/10], Evaluation [750/938], Loss: 0.2621867522597313\n",
            "Epoch [5/10], Evaluation [825/938], Loss: 0.24451460828383764\n",
            "Epoch [5/10], Evaluation [900/938], Loss: 0.24336426302790642\n",
            "Epoch [5/10], Evaluation [938/938], Loss: 0.2680379499338175\n",
            "Epoch [6/10], Evaluation [75/938], Loss: 0.2469430542985598\n",
            "Epoch [6/10], Evaluation [150/938], Loss: 0.23549756815036138\n",
            "Epoch [6/10], Evaluation [225/938], Loss: 0.25991755063335104\n",
            "Epoch [6/10], Evaluation [300/938], Loss: 0.2379801504810651\n",
            "Epoch [6/10], Evaluation [375/938], Loss: 0.24302939027547837\n",
            "Epoch [6/10], Evaluation [450/938], Loss: 0.254426346719265\n",
            "Epoch [6/10], Evaluation [525/938], Loss: 0.25069356431563694\n",
            "Epoch [6/10], Evaluation [600/938], Loss: 0.24239168514808018\n",
            "Epoch [6/10], Evaluation [675/938], Loss: 0.2603601757685343\n",
            "Epoch [6/10], Evaluation [750/938], Loss: 0.24449226528406143\n",
            "Epoch [6/10], Evaluation [825/938], Loss: 0.25137235472599667\n",
            "Epoch [6/10], Evaluation [900/938], Loss: 0.2414123946428299\n",
            "Epoch [6/10], Evaluation [938/938], Loss: 0.2321256567773066\n",
            "Epoch [7/10], Evaluation [75/938], Loss: 0.2259206011891365\n",
            "Epoch [7/10], Evaluation [150/938], Loss: 0.22924123187859854\n",
            "Epoch [7/10], Evaluation [225/938], Loss: 0.2312784547607104\n",
            "Epoch [7/10], Evaluation [300/938], Loss: 0.23820427278677622\n",
            "Epoch [7/10], Evaluation [375/938], Loss: 0.2648610512415568\n",
            "Epoch [7/10], Evaluation [450/938], Loss: 0.22566486284136772\n",
            "Epoch [7/10], Evaluation [525/938], Loss: 0.23584084033966066\n",
            "Epoch [7/10], Evaluation [600/938], Loss: 0.22939770877361298\n",
            "Epoch [7/10], Evaluation [675/938], Loss: 0.22682070801655452\n",
            "Epoch [7/10], Evaluation [750/938], Loss: 0.24614402353763581\n",
            "Epoch [7/10], Evaluation [825/938], Loss: 0.25438912749290465\n",
            "Epoch [7/10], Evaluation [900/938], Loss: 0.25029648780822755\n",
            "Epoch [7/10], Evaluation [938/938], Loss: 0.23776046951350413\n",
            "Epoch [8/10], Evaluation [75/938], Loss: 0.21811110238234202\n",
            "Epoch [8/10], Evaluation [150/938], Loss: 0.2189872912565867\n",
            "Epoch [8/10], Evaluation [225/938], Loss: 0.2244578456878662\n",
            "Epoch [8/10], Evaluation [300/938], Loss: 0.2332043139139811\n",
            "Epoch [8/10], Evaluation [375/938], Loss: 0.23836726312836012\n",
            "Epoch [8/10], Evaluation [450/938], Loss: 0.2237771339714527\n",
            "Epoch [8/10], Evaluation [525/938], Loss: 0.2237129232287407\n",
            "Epoch [8/10], Evaluation [600/938], Loss: 0.2158009637395541\n",
            "Epoch [8/10], Evaluation [675/938], Loss: 0.24666059906284013\n",
            "Epoch [8/10], Evaluation [750/938], Loss: 0.22918512791395187\n",
            "Epoch [8/10], Evaluation [825/938], Loss: 0.24217190891504287\n",
            "Epoch [8/10], Evaluation [900/938], Loss: 0.23264748454093934\n",
            "Epoch [8/10], Evaluation [938/938], Loss: 0.2422657401153916\n",
            "Epoch [9/10], Evaluation [75/938], Loss: 0.20766123314698537\n",
            "Epoch [9/10], Evaluation [150/938], Loss: 0.22223099917173386\n",
            "Epoch [9/10], Evaluation [225/938], Loss: 0.22892028172810872\n",
            "Epoch [9/10], Evaluation [300/938], Loss: 0.22556272526582083\n",
            "Epoch [9/10], Evaluation [375/938], Loss: 0.2266205777724584\n",
            "Epoch [9/10], Evaluation [450/938], Loss: 0.22910051733255388\n",
            "Epoch [9/10], Evaluation [525/938], Loss: 0.20870413253704706\n",
            "Epoch [9/10], Evaluation [600/938], Loss: 0.24142820179462432\n",
            "Epoch [9/10], Evaluation [675/938], Loss: 0.22039913088083268\n",
            "Epoch [9/10], Evaluation [750/938], Loss: 0.23398045013348262\n",
            "Epoch [9/10], Evaluation [825/938], Loss: 0.21917659923434257\n",
            "Epoch [9/10], Evaluation [900/938], Loss: 0.2021649080514908\n",
            "Epoch [9/10], Evaluation [938/938], Loss: 0.23525265800325493\n",
            "Epoch [10/10], Evaluation [75/938], Loss: 0.230038605928421\n",
            "Epoch [10/10], Evaluation [150/938], Loss: 0.20753517284989356\n",
            "Epoch [10/10], Evaluation [225/938], Loss: 0.20073571408788363\n",
            "Epoch [10/10], Evaluation [300/938], Loss: 0.23037825688719749\n",
            "Epoch [10/10], Evaluation [375/938], Loss: 0.20808221777280173\n",
            "Epoch [10/10], Evaluation [450/938], Loss: 0.22281064674258233\n",
            "Epoch [10/10], Evaluation [525/938], Loss: 0.21589188814163207\n",
            "Epoch [10/10], Evaluation [600/938], Loss: 0.21553116967280705\n",
            "Epoch [10/10], Evaluation [675/938], Loss: 0.21930657009283702\n",
            "Epoch [10/10], Evaluation [750/938], Loss: 0.20198012029131254\n",
            "Epoch [10/10], Evaluation [825/938], Loss: 0.2206068609158198\n",
            "Epoch [10/10], Evaluation [900/938], Loss: 0.23839061498641967\n",
            "Epoch [10/10], Evaluation [938/938], Loss: 0.2245053305829826\n"
          ]
        }
      ]
    }
  ]
}