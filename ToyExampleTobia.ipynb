{
  "nbformat": 4,
  "nbformat_minor": 0,
  "metadata": {
    "colab": {
      "provenance": [],
      "authorship_tag": "ABX9TyNENiC40inv9LnX0r5f0Kn8",
      "include_colab_link": true
    },
    "kernelspec": {
      "name": "python3",
      "display_name": "Python 3"
    },
    "language_info": {
      "name": "python"
    }
  },
  "cells": [
    {
      "cell_type": "markdown",
      "metadata": {
        "id": "view-in-github",
        "colab_type": "text"
      },
      "source": [
        "<a href=\"https://colab.research.google.com/github/TSHP/DL4SC_Neural_ODEs/blob/main/ToyExampleTobia.ipynb\" target=\"_parent\"><img src=\"https://colab.research.google.com/assets/colab-badge.svg\" alt=\"Open In Colab\"/></a>"
      ]
    },
    {
      "cell_type": "markdown",
      "source": [
        "Loading in the MNIST DATASET"
      ],
      "metadata": {
        "id": "rRAHnmmbuO8l"
      }
    },
    {
      "cell_type": "code",
      "execution_count": 124,
      "metadata": {
        "id": "8i5pH33gtmv5"
      },
      "outputs": [],
      "source": [
        "import torch\n",
        "import torchvision\n",
        "import torchvision.transforms as transforms\n",
        "import pandas as pd\n",
        "import torch.nn as nn\n",
        "from torch.nn import ReLU\n",
        "from torch import optim\n",
        "import matplotlib.pyplot as plt\n",
        "from torch.nn.functional import one_hot"
      ]
    },
    {
      "cell_type": "code",
      "source": [
        "\n",
        "mnistTrainSet = torchvision.datasets.MNIST(root='./data', train=True,\n",
        "                                    download=True, transform=transforms.ToTensor()) # might need to normalize\n",
        "mnistTrainLoader = torch.utils.data.DataLoader(mnistTrainSet, batch_size=64,\n",
        "                                      shuffle=True)"
      ],
      "metadata": {
        "id": "XM_wLT1XvDve"
      },
      "execution_count": 125,
      "outputs": []
    },
    {
      "cell_type": "markdown",
      "source": [
        "Constructing a 1 Layer MLP"
      ],
      "metadata": {
        "id": "_SV3fPbEvNCd"
      }
    },
    {
      "cell_type": "code",
      "source": [
        "class MLP(nn.Module):\n",
        "    def __init__(self, in_dim, out_dim):\n",
        "        super(MLP, self).__init__()\n",
        "        self.linear = nn.Linear(in_dim, out_dim)\n",
        "        self.Relu = ReLU()\n",
        "    def forward(self, x):\n",
        "        out = self.linear(x)\n",
        "        out = self.Relu(out)\n",
        "        return out"
      ],
      "metadata": {
        "id": "UiO7GKtOvDzU"
      },
      "execution_count": 126,
      "outputs": []
    },
    {
      "cell_type": "code",
      "source": [
        "batch_size = 64\n",
        "in_dim, num_class = 28*28, 10\n",
        "\n",
        "l_r = 0.0001\n",
        "w_decay = 1e-4\n",
        "model = MLP(in_dim, num_class)\n",
        "optimizer = optim.Adam(model.parameters(), lr=l_r, weight_decay = w_decay)\n",
        "criterion = nn.CrossEntropyLoss()"
      ],
      "metadata": {
        "id": "vszFzJ-Qvilu"
      },
      "execution_count": 136,
      "outputs": []
    },
    {
      "cell_type": "markdown",
      "source": [
        "Train with 10 class probabilities"
      ],
      "metadata": {
        "id": "4eYiV8XP6FQB"
      }
    },
    {
      "cell_type": "code",
      "source": [
        "total_steps = len(mnistTrainLoader)\n",
        "epochs = 10\n",
        "for cur_epoch in range(epochs):\n",
        "  for x, (images, labels) in enumerate(mnistTrainLoader):\n",
        "    images = images.reshape(-1, 28*28)\n",
        "\n",
        "    out = model(images)\n",
        "\n",
        "    losses = criterion(out, labels)\n",
        "\n",
        "    optimizer.zero_grad()\n",
        "    losses.backward()\n",
        "    optimizer.step()\n",
        "    if (x+1) % 300 == 0:\n",
        "      print (f'Epoch[{cur_epoch+1}/{epochs}], Step[{x+1}/{total_steps}], Losses: {losses.item():.4f}')\n",
        "print(losses.item())"
      ],
      "metadata": {
        "colab": {
          "base_uri": "https://localhost:8080/"
        },
        "id": "ohQ17KWU1sis",
        "outputId": "2693d7f2-02b1-4c2d-e4f5-9c4cbe7eeca8"
      },
      "execution_count": 137,
      "outputs": [
        {
          "output_type": "stream",
          "name": "stdout",
          "text": [
            "Epoch[1/10], Step[300/938], Losses: 1.7000\n",
            "Epoch[1/10], Step[600/938], Losses: 1.2934\n",
            "Epoch[1/10], Step[900/938], Losses: 1.0228\n",
            "Epoch[2/10], Step[300/938], Losses: 1.0180\n",
            "Epoch[2/10], Step[600/938], Losses: 0.8027\n",
            "Epoch[2/10], Step[900/938], Losses: 0.8379\n",
            "Epoch[3/10], Step[300/938], Losses: 0.7958\n",
            "Epoch[3/10], Step[600/938], Losses: 0.6384\n",
            "Epoch[3/10], Step[900/938], Losses: 0.7302\n",
            "Epoch[4/10], Step[300/938], Losses: 0.6881\n",
            "Epoch[4/10], Step[600/938], Losses: 0.7572\n",
            "Epoch[4/10], Step[900/938], Losses: 0.7687\n",
            "Epoch[5/10], Step[300/938], Losses: 0.8769\n",
            "Epoch[5/10], Step[600/938], Losses: 0.4406\n",
            "Epoch[5/10], Step[900/938], Losses: 0.6710\n",
            "Epoch[6/10], Step[300/938], Losses: 0.5670\n",
            "Epoch[6/10], Step[600/938], Losses: 0.4637\n",
            "Epoch[6/10], Step[900/938], Losses: 0.4917\n",
            "Epoch[7/10], Step[300/938], Losses: 0.7499\n",
            "Epoch[7/10], Step[600/938], Losses: 0.5715\n",
            "Epoch[7/10], Step[900/938], Losses: 0.6563\n",
            "Epoch[8/10], Step[300/938], Losses: 0.6835\n",
            "Epoch[8/10], Step[600/938], Losses: 0.5051\n",
            "Epoch[8/10], Step[900/938], Losses: 0.6274\n",
            "Epoch[9/10], Step[300/938], Losses: 0.5031\n",
            "Epoch[9/10], Step[600/938], Losses: 0.5264\n",
            "Epoch[9/10], Step[900/938], Losses: 0.6574\n",
            "Epoch[10/10], Step[300/938], Losses: 0.4621\n",
            "Epoch[10/10], Step[600/938], Losses: 0.4915\n",
            "Epoch[10/10], Step[900/938], Losses: 0.3446\n",
            "0.581506073474884\n"
          ]
        }
      ]
    },
    {
      "cell_type": "markdown",
      "source": [
        "Dataloader Understanding"
      ],
      "metadata": {
        "id": "C5fYLDqA03dF"
      }
    },
    {
      "cell_type": "code",
      "source": [
        "plt.imshow(mnistTrainSet.data[0])\n",
        "plt.show()"
      ],
      "metadata": {
        "id": "y-GwnLsivlC5"
      },
      "execution_count": null,
      "outputs": []
    },
    {
      "cell_type": "code",
      "source": [
        "for idx, batch in enumerate(mnistTrainLoader):\n",
        "  print('Batch index: ', idx)\n",
        "  print('Batch size: ', batch[0].size())\n",
        "  print('Batch label: ', batch[1])\n",
        "  break"
      ],
      "metadata": {
        "id": "iPu3nKNozt64"
      },
      "execution_count": null,
      "outputs": []
    },
    {
      "cell_type": "code",
      "source": [
        "for idx, (data, target) in enumerate(mnistTrainLoader):\n",
        "    print(data[0].shape)\n",
        "    print(len(data))\n",
        "    print(len(target))\n",
        "    print(target[0])\n",
        "    break"
      ],
      "metadata": {
        "id": "wv3HPgI-0SmS"
      },
      "execution_count": null,
      "outputs": []
    }
  ]
}