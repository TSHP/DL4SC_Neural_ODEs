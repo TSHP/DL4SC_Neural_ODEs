{
  "nbformat": 4,
  "nbformat_minor": 0,
  "metadata": {
    "colab": {
      "provenance": [],
      "authorship_tag": "ABX9TyOT6NLA2Y5D07q5mVM/ow3J",
      "include_colab_link": true
    },
    "kernelspec": {
      "name": "python3",
      "display_name": "Python 3"
    },
    "language_info": {
      "name": "python"
    }
  },
  "cells": [
    {
      "cell_type": "markdown",
      "metadata": {
        "id": "view-in-github",
        "colab_type": "text"
      },
      "source": [
        "<a href=\"https://colab.research.google.com/github/TSHP/DL4SC_Neural_ODEs/blob/main/ToyExampleTobia.ipynb\" target=\"_parent\"><img src=\"https://colab.research.google.com/assets/colab-badge.svg\" alt=\"Open In Colab\"/></a>"
      ]
    },
    {
      "cell_type": "markdown",
      "source": [
        "Loading in the MNIST DATASET"
      ],
      "metadata": {
        "id": "rRAHnmmbuO8l"
      }
    },
    {
      "cell_type": "code",
      "execution_count": 1,
      "metadata": {
        "id": "8i5pH33gtmv5"
      },
      "outputs": [],
      "source": [
        "import torch\n",
        "import torchvision\n",
        "import torchvision.transforms as transforms\n",
        "import pandas as pd\n",
        "import torch.nn as nn\n",
        "from torch.nn import ReLU\n",
        "from torch import optim\n",
        "import matplotlib.pyplot as plt\n",
        "from torch.nn.functional import one_hot"
      ]
    },
    {
      "cell_type": "code",
      "source": [
        "mnistTrainSet = torchvision.datasets.MNIST(root='./data', train=True,\n",
        "                                    download=True, transform=transforms.ToTensor()) # might need to normalize\n",
        "mnistTrainLoader = torch.utils.data.DataLoader(mnistTrainSet, batch_size=64,\n",
        "                                      shuffle=True)"
      ],
      "metadata": {
        "id": "XM_wLT1XvDve",
        "outputId": "1b5d6ac0-2692-442f-b4b8-bc1076c9377a",
        "colab": {
          "base_uri": "https://localhost:8080/"
        }
      },
      "execution_count": 2,
      "outputs": [
        {
          "output_type": "stream",
          "name": "stdout",
          "text": [
            "Downloading http://yann.lecun.com/exdb/mnist/train-images-idx3-ubyte.gz\n",
            "Downloading http://yann.lecun.com/exdb/mnist/train-images-idx3-ubyte.gz to ./data/MNIST/raw/train-images-idx3-ubyte.gz\n"
          ]
        },
        {
          "output_type": "stream",
          "name": "stderr",
          "text": [
            "100%|██████████| 9912422/9912422 [00:00<00:00, 71342767.60it/s]\n"
          ]
        },
        {
          "output_type": "stream",
          "name": "stdout",
          "text": [
            "Extracting ./data/MNIST/raw/train-images-idx3-ubyte.gz to ./data/MNIST/raw\n",
            "\n",
            "Downloading http://yann.lecun.com/exdb/mnist/train-labels-idx1-ubyte.gz\n",
            "Downloading http://yann.lecun.com/exdb/mnist/train-labels-idx1-ubyte.gz to ./data/MNIST/raw/train-labels-idx1-ubyte.gz\n"
          ]
        },
        {
          "output_type": "stream",
          "name": "stderr",
          "text": [
            "100%|██████████| 28881/28881 [00:00<00:00, 89796659.62it/s]\n"
          ]
        },
        {
          "output_type": "stream",
          "name": "stdout",
          "text": [
            "Extracting ./data/MNIST/raw/train-labels-idx1-ubyte.gz to ./data/MNIST/raw\n",
            "\n",
            "Downloading http://yann.lecun.com/exdb/mnist/t10k-images-idx3-ubyte.gz\n",
            "Downloading http://yann.lecun.com/exdb/mnist/t10k-images-idx3-ubyte.gz to ./data/MNIST/raw/t10k-images-idx3-ubyte.gz\n"
          ]
        },
        {
          "output_type": "stream",
          "name": "stderr",
          "text": [
            "100%|██████████| 1648877/1648877 [00:00<00:00, 21952074.77it/s]\n"
          ]
        },
        {
          "output_type": "stream",
          "name": "stdout",
          "text": [
            "Extracting ./data/MNIST/raw/t10k-images-idx3-ubyte.gz to ./data/MNIST/raw\n",
            "\n",
            "Downloading http://yann.lecun.com/exdb/mnist/t10k-labels-idx1-ubyte.gz\n",
            "Downloading http://yann.lecun.com/exdb/mnist/t10k-labels-idx1-ubyte.gz to ./data/MNIST/raw/t10k-labels-idx1-ubyte.gz\n"
          ]
        },
        {
          "output_type": "stream",
          "name": "stderr",
          "text": [
            "100%|██████████| 4542/4542 [00:00<00:00, 15035934.31it/s]\n"
          ]
        },
        {
          "output_type": "stream",
          "name": "stdout",
          "text": [
            "Extracting ./data/MNIST/raw/t10k-labels-idx1-ubyte.gz to ./data/MNIST/raw\n",
            "\n"
          ]
        }
      ]
    },
    {
      "cell_type": "markdown",
      "source": [
        "Constructing a 1 Layer MLP"
      ],
      "metadata": {
        "id": "_SV3fPbEvNCd"
      }
    },
    {
      "cell_type": "code",
      "source": [
        "class MLP(nn.Module):\n",
        "    def __init__(self, in_dim, out_dim):\n",
        "        super(MLP, self).__init__()\n",
        "        self.linear = nn.Linear(in_dim, out_dim)\n",
        "        self.Relu = ReLU()\n",
        "    def forward(self, x):\n",
        "        out = self.linear(x)\n",
        "        out = self.Relu(out)\n",
        "        return out"
      ],
      "metadata": {
        "id": "UiO7GKtOvDzU"
      },
      "execution_count": 3,
      "outputs": []
    },
    {
      "cell_type": "code",
      "source": [
        "batch_size = 64\n",
        "in_dim, num_class = 28*28, 10\n",
        "\n",
        "l_r = 0.0001\n",
        "w_decay = 1e-4\n",
        "model = MLP(in_dim, num_class)\n",
        "optimizer = optim.Adam(model.parameters(), lr=l_r, weight_decay = w_decay)\n",
        "criterion = nn.CrossEntropyLoss()"
      ],
      "metadata": {
        "id": "vszFzJ-Qvilu"
      },
      "execution_count": 4,
      "outputs": []
    },
    {
      "cell_type": "markdown",
      "source": [
        "Train with 10 class probabilities"
      ],
      "metadata": {
        "id": "4eYiV8XP6FQB"
      }
    },
    {
      "cell_type": "code",
      "source": [
        "total_steps = len(mnistTrainLoader)\n",
        "epochs = 10\n",
        "for cur_epoch in range(epochs):\n",
        "  for x, (images, labels) in enumerate(mnistTrainLoader):\n",
        "    images = images.reshape(-1, 28*28)\n",
        "\n",
        "    out = model(images)\n",
        "\n",
        "    losses = criterion(out, labels)\n",
        "\n",
        "    optimizer.zero_grad()\n",
        "    losses.backward()\n",
        "    optimizer.step()\n",
        "    if (x+1) % 300 == 0:\n",
        "      print (f'Epoch[{cur_epoch+1}/{epochs}], Step[{x+1}/{total_steps}], Losses: {losses.item():.4f}')\n",
        "print(losses.item())"
      ],
      "metadata": {
        "id": "ohQ17KWU1sis"
      },
      "execution_count": null,
      "outputs": []
    },
    {
      "cell_type": "markdown",
      "source": [
        "Dataloader Understanding"
      ],
      "metadata": {
        "id": "C5fYLDqA03dF"
      }
    },
    {
      "cell_type": "code",
      "source": [
        "plt.imshow(mnistTrainSet.data[0])\n",
        "plt.show()"
      ],
      "metadata": {
        "id": "y-GwnLsivlC5",
        "outputId": "c1d47e1e-6b1e-4472-b1af-98cc849687ca",
        "colab": {
          "base_uri": "https://localhost:8080/",
          "height": 430
        }
      },
      "execution_count": 6,
      "outputs": [
        {
          "output_type": "display_data",
          "data": {
            "text/plain": [
              "<Figure size 640x480 with 1 Axes>"
            ],
            "image/png": "[encoded data removed]"
          },
          "metadata": {}
        }
      ]
    },
    {
      "cell_type": "code",
      "source": [
        "for idx, batch in enumerate(mnistTrainLoader):\n",
        "  print('Batch index: ', idx)\n",
        "  print('Batch size: ', batch[0].size())\n",
        "  print('Batch label: ', batch[1])\n",
        "  break"
      ],
      "metadata": {
        "id": "iPu3nKNozt64"
      },
      "execution_count": null,
      "outputs": []
    },
    {
      "cell_type": "code",
      "source": [
        "for idx, (data, target) in enumerate(mnistTrainLoader):\n",
        "    print(data[0].shape)\n",
        "    print(len(data))\n",
        "    print(len(target))\n",
        "    print(target[0])\n",
        "    break"
      ],
      "metadata": {
        "id": "wv3HPgI-0SmS"
      },
      "execution_count": null,
      "outputs": []
    },
    {
      "cell_type": "code",
      "source": [
        "class ResidualBlock(nn.Module):\n",
        "    def __init__(self, in_channels, out_channels, stride=1):\n",
        "        super(ResidualBlock, self).__init__()\n",
        "        self.conv1 = nn.Conv2d(in_channels, out_channels, kernel_size=3, stride=stride, padding=1)\n",
        "        self.bn1 = nn.BatchNorm2d(out_channels)\n",
        "        self.relu = nn.ReLU(inplace=True)\n",
        "\n",
        "    def forward(self, x):\n",
        "        identity = x\n",
        "\n",
        "        out = self.conv1(x)\n",
        "        out = self.bn1(out)\n",
        "\n",
        "        out += identity\n",
        "        out = self.relu(out)\n",
        "\n",
        "        return out\n",
        "\n",
        "# Define the ResNet model\n",
        "class ResNet6(nn.Module):\n",
        "    def __init__(self, in_channels, num_classes=10):\n",
        "        super(ResNet6, self).__init__()\n",
        "        self.conv = nn.Conv2d(in_channels, 16, kernel_size=3, stride=1, padding=1)\n",
        "        self.bn = nn.BatchNorm2d(16)\n",
        "        self.relu = nn.ReLU(inplace=True)\n",
        "        self.residual_blocks = nn.ModuleList([\n",
        "            ResidualBlock(16, 16),\n",
        "            ResidualBlock(16, 16),\n",
        "            ResidualBlock(16, 16),\n",
        "            ResidualBlock(16, 16),\n",
        "            ResidualBlock(16, 16),\n",
        "            ResidualBlock(16, 16)\n",
        "        ])\n",
        "        self.avgpool = nn.AdaptiveAvgPool2d((1, 1))\n",
        "        self.fc = nn.Linear(16, num_classes)\n",
        "\n",
        "    def forward(self, x):\n",
        "        out = self.conv(x)\n",
        "        out = self.bn(out)\n",
        "        out = self.relu(out)\n",
        "\n",
        "        for block in self.residual_blocks:\n",
        "            out = block(out)\n",
        "\n",
        "        out = self.avgpool(out)\n",
        "        out = torch.flatten(out, 1)\n",
        "        out = self.fc(out)\n",
        "\n",
        "        return out"
      ],
      "metadata": {
        "id": "jbHrlhH9FJYs"
      },
      "execution_count": 12,
      "outputs": []
    },
    {
      "cell_type": "code",
      "source": [
        "# Create an instance of the ResNet model\n",
        "model_ResNet = ResNet6(in_channels=1)\n",
        "\n",
        "# Define the training parameters\n",
        "learning_rate = 0.001\n",
        "num_epochs = 10\n",
        "print_interval = 75\n",
        "\n",
        "# Define the loss function and optimizer\n",
        "criterion = nn.CrossEntropyLoss()\n",
        "optimizer = optim.Adam(model_ResNet.parameters(), lr=learning_rate)\n",
        "\n",
        "# Training loop\n",
        "for epoch in range(num_epochs):\n",
        "    running_loss = 0.0\n",
        "    eval_counter = 0\n",
        "\n",
        "    for i, (images, labels) in enumerate(mnistTrainLoader, 1):\n",
        "        # Zero the parameter gradients\n",
        "        optimizer.zero_grad()\n",
        "\n",
        "        # Forward pass\n",
        "        outputs = model_ResNet(images)\n",
        "        loss = criterion(outputs, labels)\n",
        "\n",
        "        # Backward pass and optimize\n",
        "        loss.backward()\n",
        "        optimizer.step()\n",
        "\n",
        "        running_loss += loss.item()\n",
        "        eval_counter += 1\n",
        "\n",
        "        # Print the running loss every 'print_interval' evaluations\n",
        "        if eval_counter % print_interval == 0:\n",
        "            average_loss = running_loss / print_interval\n",
        "            print(f\"Epoch [{epoch+1}/{num_epochs}], Evaluation [{i}/{len(mnistTrainLoader)}], Loss: {average_loss}\")\n",
        "            running_loss = 0.0\n",
        "            eval_counter = 0\n",
        "\n",
        "    # Print the remaining running loss at the end of the epoch\n",
        "    if eval_counter > 0:\n",
        "        average_loss = running_loss / eval_counter\n",
        "        print(f\"Epoch [{epoch+1}/{num_epochs}], Evaluation [{i}/{len(mnistTrainLoader)}], Loss: {average_loss}\")"
      ],
      "metadata": {
        "id": "xA5KaLRT97eU",
        "outputId": "f44ae67e-daea-4d8b-d680-2bc1af7ae3a3",
        "colab": {
          "base_uri": "https://localhost:8080/"
        }
      },
      "execution_count": 18,
      "outputs": [
        {
          "output_type": "stream",
          "name": "stdout",
          "text": [
            "Epoch [1/10], Evaluation [75/938], Loss: 2.0551449076334634\n",
            "Epoch [1/10], Evaluation [150/938], Loss: 1.5961734898885092\n",
            "Epoch [1/10], Evaluation [225/938], Loss: 1.2222956228256225\n",
            "Epoch [1/10], Evaluation [300/938], Loss: 0.9489353640874227\n",
            "Epoch [1/10], Evaluation [375/938], Loss: 0.7327433069547017\n",
            "Epoch [1/10], Evaluation [450/938], Loss: 0.6028642678260803\n",
            "Epoch [1/10], Evaluation [525/938], Loss: 0.4876733640829722\n",
            "Epoch [1/10], Evaluation [600/938], Loss: 0.4088536496957143\n",
            "Epoch [1/10], Evaluation [675/938], Loss: 0.3824238737424215\n",
            "Epoch [1/10], Evaluation [750/938], Loss: 0.3215906896193822\n",
            "Epoch [1/10], Evaluation [825/938], Loss: 0.2875969833135605\n",
            "Epoch [1/10], Evaluation [900/938], Loss: 0.2563775497674942\n",
            "Epoch [1/10], Evaluation [938/938], Loss: 0.23417331748887113\n",
            "Epoch [2/10], Evaluation [75/938], Loss: 0.23718696236610412\n",
            "Epoch [2/10], Evaluation [150/938], Loss: 0.22802060216665268\n",
            "Epoch [2/10], Evaluation [225/938], Loss: 0.21922427246967952\n",
            "Epoch [2/10], Evaluation [300/938], Loss: 0.1972151749332746\n",
            "Epoch [2/10], Evaluation [375/938], Loss: 0.18850418388843537\n",
            "Epoch [2/10], Evaluation [450/938], Loss: 0.19041018515825273\n",
            "Epoch [2/10], Evaluation [525/938], Loss: 0.1737770053744316\n",
            "Epoch [2/10], Evaluation [600/938], Loss: 0.1869945075114568\n",
            "Epoch [2/10], Evaluation [675/938], Loss: 0.1641600939631462\n",
            "Epoch [2/10], Evaluation [750/938], Loss: 0.1488879755139351\n",
            "Epoch [2/10], Evaluation [825/938], Loss: 0.14706385026375451\n",
            "Epoch [2/10], Evaluation [900/938], Loss: 0.14527872731288274\n",
            "Epoch [2/10], Evaluation [938/938], Loss: 0.14181090538438998\n",
            "Epoch [3/10], Evaluation [75/938], Loss: 0.13771880999207498\n",
            "Epoch [3/10], Evaluation [150/938], Loss: 0.13043221722046533\n",
            "Epoch [3/10], Evaluation [225/938], Loss: 0.1353428466618061\n",
            "Epoch [3/10], Evaluation [300/938], Loss: 0.1269360623260339\n",
            "Epoch [3/10], Evaluation [375/938], Loss: 0.12740857978661854\n",
            "Epoch [3/10], Evaluation [450/938], Loss: 0.14357283477981886\n",
            "Epoch [3/10], Evaluation [525/938], Loss: 0.12430728552242121\n",
            "Epoch [3/10], Evaluation [600/938], Loss: 0.1212064328789711\n",
            "Epoch [3/10], Evaluation [675/938], Loss: 0.13320990713934103\n",
            "Epoch [3/10], Evaluation [750/938], Loss: 0.10328673621018727\n",
            "Epoch [3/10], Evaluation [825/938], Loss: 0.11222761663297812\n",
            "Epoch [3/10], Evaluation [900/938], Loss: 0.11984212011098862\n",
            "Epoch [3/10], Evaluation [938/938], Loss: 0.11920677002911505\n",
            "Epoch [4/10], Evaluation [75/938], Loss: 0.10889658977588018\n",
            "Epoch [4/10], Evaluation [150/938], Loss: 0.09721115445097288\n",
            "Epoch [4/10], Evaluation [225/938], Loss: 0.10712419509887695\n",
            "Epoch [4/10], Evaluation [300/938], Loss: 0.10132559138039748\n",
            "Epoch [4/10], Evaluation [375/938], Loss: 0.1089576854556799\n",
            "Epoch [4/10], Evaluation [450/938], Loss: 0.09917014705638091\n",
            "Epoch [4/10], Evaluation [525/938], Loss: 0.09626918889582158\n",
            "Epoch [4/10], Evaluation [600/938], Loss: 0.09936492924888929\n",
            "Epoch [4/10], Evaluation [675/938], Loss: 0.10083106063306331\n",
            "Epoch [4/10], Evaluation [750/938], Loss: 0.10340620420873164\n",
            "Epoch [4/10], Evaluation [825/938], Loss: 0.10497209971149762\n",
            "Epoch [4/10], Evaluation [900/938], Loss: 0.1117600176980098\n",
            "Epoch [4/10], Evaluation [938/938], Loss: 0.09806981065163486\n",
            "Epoch [5/10], Evaluation [75/938], Loss: 0.09226119806369146\n",
            "Epoch [5/10], Evaluation [150/938], Loss: 0.0879696741203467\n",
            "Epoch [5/10], Evaluation [225/938], Loss: 0.0789508565266927\n",
            "Epoch [5/10], Evaluation [300/938], Loss: 0.09268464465936024\n",
            "Epoch [5/10], Evaluation [375/938], Loss: 0.0824226355055968\n",
            "Epoch [5/10], Evaluation [450/938], Loss: 0.08533445517222087\n",
            "Epoch [5/10], Evaluation [525/938], Loss: 0.09121172865231832\n",
            "Epoch [5/10], Evaluation [600/938], Loss: 0.09482705290118854\n",
            "Epoch [5/10], Evaluation [675/938], Loss: 0.08505044432977836\n",
            "Epoch [5/10], Evaluation [750/938], Loss: 0.08633009326954683\n",
            "Epoch [5/10], Evaluation [825/938], Loss: 0.09291298394401869\n",
            "Epoch [5/10], Evaluation [900/938], Loss: 0.08812149236599605\n",
            "Epoch [5/10], Evaluation [938/938], Loss: 0.10260042107026827\n",
            "Epoch [6/10], Evaluation [75/938], Loss: 0.0812574378401041\n",
            "Epoch [6/10], Evaluation [150/938], Loss: 0.0759126964211464\n",
            "Epoch [6/10], Evaluation [225/938], Loss: 0.08726255431771278\n",
            "Epoch [6/10], Evaluation [300/938], Loss: 0.08558465500672659\n",
            "Epoch [6/10], Evaluation [375/938], Loss: 0.0744454258059462\n",
            "Epoch [6/10], Evaluation [450/938], Loss: 0.06850083953390519\n",
            "Epoch [6/10], Evaluation [525/938], Loss: 0.07180232564608256\n",
            "Epoch [6/10], Evaluation [600/938], Loss: 0.06935376855234306\n",
            "Epoch [6/10], Evaluation [675/938], Loss: 0.08242169703046481\n",
            "Epoch [6/10], Evaluation [750/938], Loss: 0.08796004086732864\n",
            "Epoch [6/10], Evaluation [825/938], Loss: 0.0781925322363774\n",
            "Epoch [6/10], Evaluation [900/938], Loss: 0.0749115490540862\n",
            "Epoch [6/10], Evaluation [938/938], Loss: 0.06132240470890936\n",
            "Epoch [7/10], Evaluation [75/938], Loss: 0.06789853266129892\n",
            "Epoch [7/10], Evaluation [150/938], Loss: 0.08134908631443977\n",
            "Epoch [7/10], Evaluation [225/938], Loss: 0.08350686656932037\n",
            "Epoch [7/10], Evaluation [300/938], Loss: 0.060935793307920295\n",
            "Epoch [7/10], Evaluation [375/938], Loss: 0.06730224308868249\n",
            "Epoch [7/10], Evaluation [450/938], Loss: 0.061893648045758407\n",
            "Epoch [7/10], Evaluation [525/938], Loss: 0.06511522360146045\n",
            "Epoch [7/10], Evaluation [600/938], Loss: 0.07910721767693758\n",
            "Epoch [7/10], Evaluation [675/938], Loss: 0.07490107410897812\n",
            "Epoch [7/10], Evaluation [750/938], Loss: 0.06969507238517204\n",
            "Epoch [7/10], Evaluation [825/938], Loss: 0.06606133967017135\n",
            "Epoch [7/10], Evaluation [900/938], Loss: 0.0644562577456236\n",
            "Epoch [7/10], Evaluation [938/938], Loss: 0.07151751935874161\n",
            "Epoch [8/10], Evaluation [75/938], Loss: 0.07042669193198284\n",
            "Epoch [8/10], Evaluation [150/938], Loss: 0.06886061107118925\n",
            "Epoch [8/10], Evaluation [225/938], Loss: 0.07165647556384404\n",
            "Epoch [8/10], Evaluation [300/938], Loss: 0.062250157669186595\n",
            "Epoch [8/10], Evaluation [375/938], Loss: 0.06461310415218274\n",
            "Epoch [8/10], Evaluation [450/938], Loss: 0.06579506564885378\n",
            "Epoch [8/10], Evaluation [525/938], Loss: 0.05400078312804302\n",
            "Epoch [8/10], Evaluation [600/938], Loss: 0.07708379309624433\n",
            "Epoch [8/10], Evaluation [675/938], Loss: 0.05727402933562795\n",
            "Epoch [8/10], Evaluation [750/938], Loss: 0.06434610851109028\n",
            "Epoch [8/10], Evaluation [825/938], Loss: 0.06547789598504702\n",
            "Epoch [8/10], Evaluation [900/938], Loss: 0.05343193009495735\n",
            "Epoch [8/10], Evaluation [938/938], Loss: 0.05460490688289467\n",
            "Epoch [9/10], Evaluation [75/938], Loss: 0.06011599474896987\n",
            "Epoch [9/10], Evaluation [150/938], Loss: 0.05783972139159838\n",
            "Epoch [9/10], Evaluation [225/938], Loss: 0.048974676554401714\n",
            "Epoch [9/10], Evaluation [300/938], Loss: 0.07079291082297762\n",
            "Epoch [9/10], Evaluation [375/938], Loss: 0.06328804606571793\n",
            "Epoch [9/10], Evaluation [450/938], Loss: 0.06856940376882752\n",
            "Epoch [9/10], Evaluation [525/938], Loss: 0.05625961635261774\n",
            "Epoch [9/10], Evaluation [600/938], Loss: 0.06414342035849889\n",
            "Epoch [9/10], Evaluation [675/938], Loss: 0.057209257446229456\n",
            "Epoch [9/10], Evaluation [750/938], Loss: 0.0644010462363561\n",
            "Epoch [9/10], Evaluation [825/938], Loss: 0.06265567201500137\n",
            "Epoch [9/10], Evaluation [900/938], Loss: 0.052723188425103824\n",
            "Epoch [9/10], Evaluation [938/938], Loss: 0.06410399910160586\n",
            "Epoch [10/10], Evaluation [75/938], Loss: 0.05234540751203895\n",
            "Epoch [10/10], Evaluation [150/938], Loss: 0.05733124109605948\n",
            "Epoch [10/10], Evaluation [225/938], Loss: 0.04868161410093307\n",
            "Epoch [10/10], Evaluation [300/938], Loss: 0.061891702158997454\n",
            "Epoch [10/10], Evaluation [375/938], Loss: 0.05637256427357594\n",
            "Epoch [10/10], Evaluation [450/938], Loss: 0.06260532003516953\n",
            "Epoch [10/10], Evaluation [525/938], Loss: 0.05900855201606949\n",
            "Epoch [10/10], Evaluation [600/938], Loss: 0.05920379249379039\n",
            "Epoch [10/10], Evaluation [675/938], Loss: 0.052773435519387325\n",
            "Epoch [10/10], Evaluation [750/938], Loss: 0.056425028499215844\n",
            "Epoch [10/10], Evaluation [825/938], Loss: 0.05553434183821082\n",
            "Epoch [10/10], Evaluation [900/938], Loss: 0.05877341181660692\n",
            "Epoch [10/10], Evaluation [938/938], Loss: 0.04092261372869344\n"
          ]
        }
      ]
    },
    {
      "cell_type": "code",
      "source": [],
      "metadata": {
        "id": "0g384giiitvx"
      },
      "execution_count": null,
      "outputs": []
    }
  ]
}