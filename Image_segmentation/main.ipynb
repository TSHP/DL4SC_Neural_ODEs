{
  "cells": [
    {
      "cell_type": "code",
      "execution_count": 1,
      "metadata": {
        "id": "zPzzMDJFTqVg"
      },
      "outputs": [],
      "source": [
        "from src.visualizer import visualize_dataset, visualize_dataloader, visualize_results\n",
        "from src.loops import ModelTrainer\n",
        "from src.Data.get_dataset import download_VOC\n",
        "from src.Data.get_dataloader import get_dataloader \n",
        "from src.models.resnet_image import ResNet6_images, ResidualBlock\n",
        "from src.utils.dice_loss import dice_loss\n",
        "from src.models.node_image import ODENet\n",
        "from src.models.rknet_image import RKNet"
      ]
    },
    {
      "cell_type": "code",
      "execution_count": 2,
      "metadata": {},
      "outputs": [],
      "source": [
        "import torch\n",
        "if torch.cuda.is_available(): \n",
        "    dev = \"cuda\" \n",
        "else: \n",
        "    dev = \"cpu\"\n",
        "    print(\"only cpu available\") \n",
        "device = torch.device(dev) "
      ]
    },
    {
      "cell_type": "code",
      "execution_count": 3,
      "metadata": {},
      "outputs": [
        {
          "name": "stdout",
          "output_type": "stream",
          "text": [
            "Using downloaded and verified file: /home/tobia/Documents/GitHub/DL4SC_Neural_ODEs/Image_segmentation/src/Data/data_set/VOCtrainval_11-May-2012.tar\n",
            "Extracting /home/tobia/Documents/GitHub/DL4SC_Neural_ODEs/Image_segmentation/src/Data/data_set/VOCtrainval_11-May-2012.tar to /home/tobia/Documents/GitHub/DL4SC_Neural_ODEs/Image_segmentation/src/Data/data_set\n",
            "Using downloaded and verified file: /home/tobia/Documents/GitHub/DL4SC_Neural_ODEs/Image_segmentation/src/Data/data_set/VOCtrainval_11-May-2012.tar\n",
            "Extracting /home/tobia/Documents/GitHub/DL4SC_Neural_ODEs/Image_segmentation/src/Data/data_set/VOCtrainval_11-May-2012.tar to /home/tobia/Documents/GitHub/DL4SC_Neural_ODEs/Image_segmentation/src/Data/data_set\n"
          ]
        }
      ],
      "source": [
        "voc_trainset, voc_valset = download_VOC()"
      ]
    },
    {
      "cell_type": "code",
      "execution_count": 4,
      "metadata": {},
      "outputs": [],
      "source": [
        "verbose = False\n",
        "load = False\n",
        "run_tasks = True\n",
        "save = True"
      ]
    },
    {
      "cell_type": "code",
      "execution_count": 5,
      "metadata": {},
      "outputs": [
        {
          "name": "stdout",
          "output_type": "stream",
          "text": [
            "[  0.   1.   2.   3.   4.   5.   6.   7.   8.   9.  10.  11.  12.  13.\n",
            "  14.  15.  16.  17.  18.  19.  20. 255.]\n",
            "unique number in masks  22\n"
          ]
        }
      ],
      "source": [
        "import numpy as np\n",
        "possible_val = np.empty((0))\n",
        "for i in range(len(voc_trainset)):\n",
        "\n",
        "    image, mask = voc_trainset[i]\n",
        "    possible_val = np.unique(np.append(possible_val, np.unique(mask)))\n",
        "print(possible_val)\n",
        "print(\"unique number in masks \", len(possible_val))"
      ]
    },
    {
      "cell_type": "code",
      "execution_count": 6,
      "metadata": {},
      "outputs": [],
      "source": [
        "if verbose:\n",
        "    visualize_dataset(voc_trainset)\n",
        "    visualize_dataset(voc_valset)"
      ]
    },
    {
      "cell_type": "code",
      "execution_count": 7,
      "metadata": {},
      "outputs": [],
      "source": [
        "voc_train_loader = get_dataloader(voc_trainset)\n",
        "voc_val_loader = get_dataloader(voc_valset)"
      ]
    },
    {
      "cell_type": "code",
      "execution_count": 8,
      "metadata": {},
      "outputs": [],
      "source": [
        "if verbose:\n",
        "    visualize_dataloader(voc_train_loader)\n",
        "    visualize_dataloader(voc_val_loader)"
      ]
    },
    {
      "cell_type": "code",
      "execution_count": 9,
      "metadata": {},
      "outputs": [],
      "source": [
        "import os\n",
        "import torch.nn as nn\n",
        "in_channels = 3\n",
        "out_channels = 21\n",
        "model_resnet = ResNet6_images(in_channels, out_channels).to(device)\n",
        "model_node = ODENet(in_channels, out_channels).to(device)\n",
        "model_rknet = RKNet(in_channels, out_channels).to(device)\n",
        "lossf = nn.BCELoss() \n",
        "learning_rate = 0.0001\n",
        "num_epochs = 50\n",
        "print_interval = 25\n",
        "model_filepath =  os.path.join(os.getcwd(), \"src\\\\model_trained\\\\\" ) "
      ]
    },
    {
      "cell_type": "code",
      "execution_count": 10,
      "metadata": {},
      "outputs": [],
      "source": [
        "trainer_resnet = ModelTrainer(voc_train_loader, voc_val_loader, model_resnet, lossf, learning_rate, num_epochs, print_interval, os.path.join(model_filepath, \"resnet.pt\" ), device)\n",
        "trainer_node = ModelTrainer(voc_train_loader, voc_val_loader, model_node, lossf, learning_rate, num_epochs, print_interval, os.path.join(model_filepath, \"node.pt\"), device)\n",
        "trainer_rknet = ModelTrainer(voc_train_loader, voc_val_loader, model_rknet, lossf, learning_rate, num_epochs, print_interval, os.path.join(model_filepath, \"rknet.pt\"), device)"
      ]
    },
    {
      "cell_type": "code",
      "execution_count": 11,
      "metadata": {},
      "outputs": [],
      "source": [
        "if load:\n",
        "    trainer_resnet.load_model()\n",
        "    trainer_node.load_model()\n",
        "    trainer_rknet.load_model()"
      ]
    },
    {
      "cell_type": "code",
      "execution_count": 12,
      "metadata": {},
      "outputs": [
        {
          "ename": "",
          "evalue": "",
          "output_type": "error",
          "traceback": [
            "\u001b[1;31mCannot execute code, session has been disposed. Please try restarting the Kernel."
          ]
        },
        {
          "ename": "",
          "evalue": "",
          "output_type": "error",
          "traceback": [
            "\u001b[1;31mThe Kernel crashed while executing code in the the current cell or a previous cell. Please review the code in the cell(s) to identify a possible cause of the failure. Click <a href='https://aka.ms/vscodeJupyterKernelCrash'>here</a> for more info. View Jupyter <a href='command:jupyter.viewOutput'>log</a> for further details."
          ]
        }
      ],
      "source": [
        "if run_tasks:\n",
        "    for cur_model in [trainer_resnet, trainer_node, trainer_rknet]:\n",
        "        cur_model.train()\n",
        "        if save:\n",
        "            cur_model.save_model()"
      ]
    },
    {
      "cell_type": "code",
      "execution_count": null,
      "metadata": {},
      "outputs": [
        {
          "ename": "",
          "evalue": "",
          "output_type": "error",
          "traceback": [
            "\u001b[1;31mRunning cells with '/bin/python3' requires the ipykernel package.\n",
            "\u001b[1;31mRun the following command to install 'ipykernel' into the Python environment. \n",
            "\u001b[1;31mCommand: '/bin/python3 -m pip install ipykernel -U --user --force-reinstall'"
          ]
        }
      ],
      "source": [
        "if run_tasks:\n",
        "    trainer_resnet.test()\n",
        "    trainer_node.test() \n",
        "    trainer_rknet.test()"
      ]
    },
    {
      "cell_type": "code",
      "execution_count": null,
      "metadata": {},
      "outputs": [
        {
          "ename": "",
          "evalue": "",
          "output_type": "error",
          "traceback": [
            "\u001b[1;31mRunning cells with '/bin/python3' requires the ipykernel package.\n",
            "\u001b[1;31mRun the following command to install 'ipykernel' into the Python environment. \n",
            "\u001b[1;31mCommand: '/bin/python3 -m pip install ipykernel -U --user --force-reinstall'"
          ]
        }
      ],
      "source": [
        "if verbose:\n",
        "    predicts, masks = trainer_resnet.predict()\n",
        "    print(\"resnet\")\n",
        "    visualize_results(predicts, masks)\n",
        "    print(\"----------------------------\")\n",
        "\n",
        "    predicts, masks = trainer_node.predict()\n",
        "    print(\"node\")\n",
        "    visualize_results(predicts, masks)\n",
        "    print(\"----------------------------\")\n",
        "\n",
        "    predicts, masks = trainer_rknet.predict()\n",
        "    print(\"rknet\")\n",
        "    visualize_results(predicts, masks)\n",
        "    print(\"----------------------------\")"
      ]
    }
  ],
  "metadata": {
    "colab": {
      "provenance": []
    },
    "kernelspec": {
      "display_name": "Python 3",
      "name": "python3"
    },
    "language_info": {
      "codemirror_mode": {
        "name": "ipython",
        "version": 3
      },
      "file_extension": ".py",
      "mimetype": "text/x-python",
      "name": "python",
      "nbconvert_exporter": "python",
      "pygments_lexer": "ipython3",
      "version": "3.10.6"
    }
  },
  "nbformat": 4,
  "nbformat_minor": 0
}
