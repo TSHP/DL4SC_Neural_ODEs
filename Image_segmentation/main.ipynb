{
  "cells": [
    {
      "cell_type": "code",
      "execution_count": 1,
      "metadata": {
        "id": "zPzzMDJFTqVg"
      },
      "outputs": [],
      "source": [
        "from src.visualizer import visualize_dataset, visualize_dataloader, visualize_results\n",
        "from src.loops import ModelTrainer\n",
        "from src.Data.get_dataset import download_VOC\n",
        "from src.Data.get_dataloader import get_dataloader \n",
        "from src.models.resnet_image import ResNet6_images, ResidualBlock\n",
        "from src.utils.dice_loss import dice_loss\n",
        "from src.models.node_image import ODENet\n",
        "from src.models.rknet_image import RKNet"
      ]
    },
    {
      "cell_type": "code",
      "execution_count": 2,
      "metadata": {},
      "outputs": [
        {
          "name": "stdout",
          "output_type": "stream",
          "text": [
            "Using downloaded and verified file: C:\\Users\\tobia\\Documents\\GitHub\\DL4SC_Neural_ODEs\\Image_segmentation\\src\\Data\\data_set\\VOCtrainval_11-May-2012.tar\n",
            "Extracting C:\\Users\\tobia\\Documents\\GitHub\\DL4SC_Neural_ODEs\\Image_segmentation\\src\\Data\\data_set\\VOCtrainval_11-May-2012.tar to C:\\Users\\tobia\\Documents\\GitHub\\DL4SC_Neural_ODEs\\Image_segmentation\\src\\Data\\data_set\n",
            "Using downloaded and verified file: C:\\Users\\tobia\\Documents\\GitHub\\DL4SC_Neural_ODEs\\Image_segmentation\\src\\Data\\data_set\\VOCtrainval_11-May-2012.tar\n",
            "Extracting C:\\Users\\tobia\\Documents\\GitHub\\DL4SC_Neural_ODEs\\Image_segmentation\\src\\Data\\data_set\\VOCtrainval_11-May-2012.tar to C:\\Users\\tobia\\Documents\\GitHub\\DL4SC_Neural_ODEs\\Image_segmentation\\src\\Data\\data_set\n"
          ]
        }
      ],
      "source": [
        "voc_trainset, voc_valset = download_VOC()"
      ]
    },
    {
      "cell_type": "code",
      "execution_count": 3,
      "metadata": {},
      "outputs": [],
      "source": [
        "verbose = False\n",
        "if verbose:\n",
        "    visualize_dataset(voc_trainset)\n",
        "    visualize_dataset(voc_valset)"
      ]
    },
    {
      "cell_type": "code",
      "execution_count": 4,
      "metadata": {},
      "outputs": [],
      "source": [
        "voc_train_loader = get_dataloader(voc_trainset)\n",
        "voc_val_loader = get_dataloader(voc_valset)"
      ]
    },
    {
      "cell_type": "code",
      "execution_count": 5,
      "metadata": {},
      "outputs": [],
      "source": [
        "if verbose:\n",
        "    visualize_dataloader(voc_train_loader)\n",
        "    visualize_dataloader(voc_val_loader)"
      ]
    },
    {
      "cell_type": "code",
      "execution_count": 6,
      "metadata": {},
      "outputs": [],
      "source": [
        "in_channels = 3\n",
        "model_resnet = ResNet6_images(in_channels)\n",
        "model_node = ODENet(in_channels)\n",
        "model_rknet = RKNet(in_channels)\n",
        "lossf = dice_loss\n",
        "learning_rate = 0.0001\n",
        "num_epochs = 1\n",
        "print_interval = 5"
      ]
    },
    {
      "cell_type": "code",
      "execution_count": 7,
      "metadata": {},
      "outputs": [],
      "source": [
        "trainer_resnet = ModelTrainer(voc_train_loader, voc_val_loader, model_resnet, lossf, learning_rate, num_epochs, print_interval)\n",
        "trainer_node = ModelTrainer(voc_train_loader, voc_val_loader, model_node, lossf, learning_rate, num_epochs, print_interval)\n",
        "trainer_rknet = ModelTrainer(voc_train_loader, voc_val_loader, model_rknet, lossf, learning_rate, num_epochs, print_interval)"
      ]
    },
    {
      "cell_type": "code",
      "execution_count": 8,
      "metadata": {},
      "outputs": [],
      "source": [
        "run_tasks = False\n",
        "if run_tasks:\n",
        "    trainer_resnet.train()\n",
        "    trainer_node.train()\n",
        "    trainer_rknet.train()"
      ]
    },
    {
      "cell_type": "code",
      "execution_count": 9,
      "metadata": {},
      "outputs": [],
      "source": [
        "if run_tasks:\n",
        "    trainer_resnet.test()\n",
        "    trainer_node.test() \n",
        "    trainer_rknet.test()"
      ]
    },
    {
      "cell_type": "code",
      "execution_count": 10,
      "metadata": {},
      "outputs": [],
      "source": [
        "predicts, masks = trainer_resnet.predict()"
      ]
    },
    {
      "cell_type": "code",
      "execution_count": null,
      "metadata": {},
      "outputs": [],
      "source": [
        "if verbose:\n",
        "    predicts, masks = trainer_resnet.predict()\n",
        "    print(\"resnet\")\n",
        "    visualize_results(predicts, masks)\n",
        "    print(\"----------------------------\")\n",
        "\n",
        "    predicts, masks = trainer_node.predict()\n",
        "    print(\"node\")\n",
        "    visualize_results(predicts, masks)\n",
        "    print(\"----------------------------\")\n",
        "\n",
        "    predicts, masks = trainer_rknet.predict()\n",
        "    print(\"rknet\")\n",
        "    visualize_results(predicts, masks)\n",
        "    print(\"----------------------------\")"
      ]
    }
  ],
  "metadata": {
    "colab": {
      "provenance": []
    },
    "kernelspec": {
      "display_name": "Python 3",
      "name": "python3"
    },
    "language_info": {
      "codemirror_mode": {
        "name": "ipython",
        "version": 3
      },
      "file_extension": ".py",
      "mimetype": "text/x-python",
      "name": "python",
      "nbconvert_exporter": "python",
      "pygments_lexer": "ipython3",
      "version": "3.10.11"
    }
  },
  "nbformat": 4,
  "nbformat_minor": 0
}
